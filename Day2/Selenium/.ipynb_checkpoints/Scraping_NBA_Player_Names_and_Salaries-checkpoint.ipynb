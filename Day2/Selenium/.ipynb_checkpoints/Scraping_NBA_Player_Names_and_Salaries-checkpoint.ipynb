{
 "cells": [
  {
   "cell_type": "code",
   "execution_count": 7,
   "metadata": {},
   "outputs": [
    {
     "name": "stdout",
     "output_type": "stream",
     "text": [
      "Requirement already satisfied: selenium in c:\\users\\mamagdy\\appdata\\local\\continuum\\anaconda3\\lib\\site-packages (3.141.0)\n",
      "Requirement already satisfied: urllib3 in c:\\users\\mamagdy\\appdata\\local\\continuum\\anaconda3\\lib\\site-packages (from selenium) (1.25.8)\n"
     ]
    }
   ],
   "source": [
    "!pip install selenium"
   ]
  },
  {
   "cell_type": "code",
   "execution_count": 1,
   "metadata": {},
   "outputs": [],
   "source": [
    "from selenium import webdriver\n",
    "from selenium.webdriver.common.keys import Keys\n",
    "import pandas as pd\n",
    "\n",
    "driver = webdriver.Firefox()\n",
    "driver.get('https://hoopshype.com/salaries/players/')  "
   ]
  },
  {
   "cell_type": "code",
   "execution_count": 2,
   "metadata": {},
   "outputs": [
    {
     "name": "stdout",
     "output_type": "stream",
     "text": [
      "['PLAYER', 'Stephen Curry', 'Chris Paul', 'Russell Westbrook', 'James Harden', 'John Wall', 'LeBron James', 'Kevin Durant', 'Paul George', 'Klay Thompson', 'Mike Conley', 'Kemba Walker', 'Kawhi Leonard', 'Jimmy Butler', 'Tobias Harris', 'Blake Griffin', 'Kyrie Irving', 'Khris Middleton', 'Anthony Davis', 'Damian Lillard', 'Kevin Love', 'Ben Simmons', 'Pascal Siakam', 'Kyle Lowry', 'Steven Adams', 'Nikola Jokic', 'Andrew Wiggins', 'Joel Embiid', 'Kristaps Porzingis', 'Karl-Anthony Towns', 'Devin Booker', 'CJ McCollum', 'Bradley Beal', 'Andre Drummond', \"D'Angelo Russell\", 'Gordon Hayward', 'Otto Porter', 'DeMar DeRozan', 'Giannis Antetokounmpo', 'Al Horford', 'Jamal Murray', 'Brandon Ingram', 'Rudy Gobert', 'Nikola Vucevic', 'Jrue Holiday', 'Jaylen Brown', 'Buddy Hield', 'Draymond Green', 'Harrison Barnes', 'Fred VanVleet', 'Victor Oladipo', 'Malcolm Brogdon', 'Julius Randle', 'Domantas Sabonis', 'Gary Harris', 'Danilo Gallinari', 'Zach LaVine', 'Jerami Grant', 'Tim Hardaway Jr', 'Terry Rozier', 'Aaron Gordon', 'Clint Capela', 'Bogdan Bogdanovic', 'Myles Turner', 'Goran Dragic', 'Bojan Bogdanovic', 'LaMarcus Aldridge', 'Gorgui Dieng', 'Evan Fournier', 'Ricky Rubio', 'Eric Bledsoe', 'Eric Gordon', 'Caris LeVert', 'Joe Harris', 'James Johnson', 'Dennis Schroeder', 'Cody Zeller', 'Danny Green', 'Davis Bertans', 'Jonas Valanciunas', 'Andre Iguodala', 'Marcus Morris', 'Rudy Gay', 'Kelly Oubre', 'Dejounte Murray', 'Will Barton', 'Thaddeus Young', 'Patrick Mills', 'Terrence Ross', 'Malik Beasley', 'Patrick Beverley', 'Christian Wood', 'JJ Redick', 'Justise Winslow', 'Marcus Smart', 'Jusuf Nurkic', 'Kelly Olynyk', 'Trevor Ariza', 'Brook Lopez', 'Dion Waiters', 'Cory Joseph', 'Markelle Fultz', 'Taurean Prince', 'Tony Snell', 'Robert Covington', 'Kentavious Caldwell-Pope', 'TJ Warren', 'Larry Nance Jr', 'Nicolas Batum', 'Jordan Clarkson', 'Spencer Dinwiddie', 'Dillon Brooks', 'Dwight Powell', 'Lonzo Ball', 'Josh Richardson', 'Norman Powell', 'Jeremy Lamb', 'DeAndre Jordan', 'Joe Ingles', 'Zion Williamson', 'Rodney Hood', 'Deandre Ayton', 'Tomas Satoransky', 'Paul Millsap', 'Jayson Tatum', 'Anthony Edwards', 'Al-Farouq Aminu', 'Dante Exum', 'George Hill', \"De'Anthony Melton\", 'Kyle Anderson', 'Meyers Leonard', 'Tristan Thompson', 'Serge Ibaka', 'Montrezl Harrell', 'Jae Crowder', 'Derrick Jones', 'Derrick Favors', 'Dario Saric', 'Ja Morant', 'Delon Wright', 'Marvin Bagley', 'Cedi Osman', 'Tyus Jones', 'James Wiseman', \"Royce O'Neale\", 'Thomas Bryant', 'Maxi Kleber', 'RJ Barrett', 'Jakob Poeltl', \"De'Aaron Fox\", 'Luka Doncic', 'Mason Plumlee', 'Louis Williams', 'PJ Tucker', 'LaMelo Ball', 'Seth Curry', 'Derrick Rose', 'Cristiano Felicio', 'Rajon Rondo', \"De'Andre Hunter\", 'Jonathan Isaac', 'Doug McDermott', 'Robin Lopez', 'Jaren Jackson', 'JaMychal Green', 'Nemanja Bjelica', 'Patrick Williams', 'Ivica Zubac', 'Aron Baynes', 'Darius Miller', 'Jabari Parker', 'Lauri Markkanen', 'Darius Garland', 'DJ Augustin', 'Trae Young', 'Chris Boucher', 'Juan Hernangomez', 'Joakim Noah', 'Isaac Okoro', 'Frank Ntilikina', 'DeMarre Carroll', 'Jarrett Culver', 'Alec Burks', 'Ishmael Smith', 'Mo Bamba', 'Onyeka Okongwu', 'Justin Holiday', 'Dennis Smith', 'Avery Bradley', 'Timofey Mozgov', 'Coby White', 'Trey Lyles', 'Wendell Carter', 'Zach Collins', 'Malik Monk', 'Killian Hayes', 'Luke Kennard', 'Ryan Anderson', 'Donovan Mitchell', 'Rodney McGruder', 'Bam Adebayo', 'Jaxson Hayes', 'Justin Jackson', 'Ed Davis', 'Mike Scott', 'Enes Kanter', 'Richaun Holmes', 'Luol Deng', 'Daniel Theis', 'Nerlens Noel', 'Collin Sexton', 'Pat Connaughton', 'Obi Toppin', 'Kevon Looney', 'Kris Dunn', 'Josh Jackson', 'Garrett Temple', 'Elfrid Payton', 'Rui Hachimura', 'Denzel Valentine', 'Kevin Knox', 'DJ Wilson', 'Deni Avdija', 'Cam Reddish', 'TJ Leaf', 'Mikal Bridges', 'Jalen Smith', 'Cameron Johnson', 'JaVale McGee', 'Reggie Bullock', 'Shai Gilgeous-Alexander', 'John Collins', 'Willie Cauley-Stein', 'Devin Vassell', 'PJ Washington', 'Dorian Finney-Smith', 'Patrick McCaw', 'Alex Len', 'Terrance Ferguson', 'Miles Bridges', 'Jevon Carter', 'Jarrett Allen', 'Nicolo Melli', 'OG Anunoby', 'Gabriel Deck', 'Tyrese Haliburton', 'Tyler Herro', 'Patrick Patterson', 'Stanley Johnson', 'Jake Layman', 'Jerome Robinson', 'Danuel House', 'Kira Lewis', 'Romeo Langford', 'Bobby Portis', 'Wesley Matthews', 'Moe Harkless', 'Wayne Ellington', 'Kyle Kuzma', 'Michael Porter', 'Tony Bradley', 'Derrick White', 'Bismack Biyombo', 'Boban Marjanovic', 'TJ McConnell', 'Austin Rivers', 'Josh Hart', 'Aaron Nesmith', 'Sekou Doumbouya', 'Dewayne Dedmon', 'Troy Brown', 'Jeff Teague', 'Michael Carter-Williams', 'James Ennis', 'Cole Anthony', 'Taj Gibson', 'Facundo Campazzo', 'Jon Leuer', 'Isaiah Stewart', 'Chuma Okeke', 'Nickeil Alexander-Walker', 'Donte DiVincenzo', 'Khem Birch', 'Trey Burke', 'Ryan Arcidiacono', 'Aleksej Pokusevski', 'Goga Bitadze', 'Lonnie Walker', 'Ben McLemore', 'Andrew Nicholson', 'Luka Samanic', 'Josh Green', 'Kevin Huerter', 'Alex Caruso', 'Marko Guduric', 'Matisse Thybulle', 'Saddiq Bey', 'DeMarcus Cousins', 'Josh Okogie', 'Vincent Poirier', 'Brandon Clarke', 'Precious Achiuwa', 'Marc Gasol', 'Jeff Green', 'Jose Juan Barea', 'Jared Dudley', 'Udonis Haslem', 'Dwight Howard', 'Carmelo Anthony', 'Grayson Allen', 'Grant Williams', 'Tyrese Maxey', 'Chandler Hutchison', 'Darius Bazley', 'Zeke Nnaji', 'Aaron Holiday', 'Bryn Forbes', 'Reggie Jackson', 'Markieff Morris', \"E'Twaun Moore\", 'Kent Bazemore', 'Hassan Whiteside', 'Ty Jerome', 'Mike Muscala', 'Mfiondu Kabengele', 'Anfernee Simons', 'Luke Kornet', 'Brad Wanamaker', 'Monta Ellis', 'Nassir Little', 'RJ Hampton', 'Solomon Hill', 'Matthew Dellavedova', 'Moritz Wagner', 'Edmond Sumner', 'Dylan Windler', 'Immanuel Quickley', 'John Konchar', 'Landry Shamet', 'Jordan Poole', 'Bol Bol', 'Keldon Johnson', 'Payton Pritchard', 'Robert Williams', 'Bruno Caboclo', 'Tyler Johnson', 'Langston Galloway', 'Jacob Evans', 'Spencer Hawes', 'Dzanan Musa', 'Gary Clark', 'Damyean Dotson', 'Theo Maledon', 'Kenrich Williams', 'Omari Spellman', 'Mario Hezonja', 'Cameron Payne', 'Udoka Azubuike', 'Jaden McDaniels', 'Malachi Flynn', 'Desmond Bane', 'Anderson Varejao', 'Jontay Porter', 'Jahlil Okafor', 'JaKarr Sampson', 'Raul Neto', 'Larry Sanders', 'Timothe Luwawu', 'David Nwaba', 'Marquese Chriss', 'Georges Niang', 'Rodions Kurucs', 'PJ Dozier', 'Damion Lee', 'Alfonzo McKinnie', 'Furkan Korkmaz', 'Semi Ojeleye', 'Abdel Nader', 'DeAndre Bembry', 'Thon Maker', 'Willy Hernangomez', 'Frank Kaminsky', 'Monte Morris', 'Kevin Porter', 'Shake Milton', 'Brandon Goodwin', 'Thanasis Antetokounmpo', 'Dwayne Bacon', 'Wesley Iwundu', 'Sterling Brown', 'Torrey Craig', 'Bruce Brown', 'Devonte Graham', 'Jalen Brunson', 'Hamidou Diallo', 'Kendrick Nunn', 'Duncan Robinson', 'Jarred Vanderbilt', 'Mitchell Robinson', 'Sviatoslav Mykhailiuk', 'Gary Trent Jr', 'Isaac Bonga', 'Isaiah Hartenstein', 'Wenyen Gabriel', 'Drew Eubanks', 'Josh Gray', 'Harry Giles', 'Bruno Fernando', 'Carsen Edwards', 'Nicolas Claxton', 'Cody Martin', 'Caleb Martin', 'Jalen McDaniels', 'Vlatko Cancar', 'Eric Paschall', 'Alen Smailagic', 'Jalen Lecque', 'KZ Okpala', 'Jaylen Nowell', 'Naz Reid', 'Luguentz Dort', 'Isaiah Roby', 'Justin James', 'Matt Thomas', 'Daniel Gafford', 'Admiral Schofield', 'Javonte Green', 'Dean Wade', 'Mychal Mulder', 'Chris Clemons', 'Terance Mann', 'Talen Horton-Tucker', 'Ignas Brazdeikis', 'Terence Davis', 'Chris Silva', 'Juwan Morgan', 'Miye Oni', 'Robert Woodard', 'JR Smith', 'Paul Watson', 'DaQuan Jeffries', \"Jae'Sean Tate\", 'Kelan Martin', 'Zylan Cheatham', 'Vernon Carey', 'Xavier Tillman', 'Tyrell Terry', 'Moses Brown', 'Sindarius Thornwell', 'Ersan Ilyasova', 'Glenn Robinson III', 'Damian Jones', 'Quinn Cook', 'Zhaire Smith', 'Guerschon Yabusele', 'Nick Richards', 'Lamar Stevens', \"Jahmi'us Ramsey\", 'Kyle Singler', 'Shaquille Harrison', 'Deividas Sirvydis', 'KJ Martin', 'Daniel Oturu', 'Sam Merrill', 'Jordan Nwora', 'Isaiah Joe', 'CJ Elleby', 'Tre Jones', 'Elijah Hughes', 'Anthony Gill', 'Jordan Bell', 'Iman Shumpert', 'Theo Pinson', 'Oshae Brissett', 'Khyri Thomas', 'Yuta Watanabe', 'Tremont Waters', 'Frank Jackson', 'Rayjon Tucker', 'Tyler Cook', 'Garrison Mathews', 'Cole Aldrich', 'Shaun Livingston', 'Gabe Vincent', 'Max Strus', 'Alize Johnson', 'Paul Reed', 'Markus Howard', 'Norvel Pelle', 'Chimezie Metu', 'Dakari Johnson', 'Mason Jones', 'Nathan Knight', 'Skylar Mays', 'Tacko Fall', 'Chris Chiozza', 'Reggie Perry', 'Nate Darling', 'Grant Riller', 'Devon Dotson', 'Adam Mokoka', 'Marques Bolden', 'Tyler Bey', 'Nate Hinton', 'Saben Lee', 'Nico Mannion', 'Juan Toscano-Anderson', 'Brian Bowen', 'Cassius Stanley', 'Amir Coffey', 'Jay Scrubb', 'Kostas Antetokounmpo', 'Devontae Cacok', 'Sean McDermott', 'Killian Tillie', 'Jaylen Adams', 'Mamadi Diakite', 'Jordan McLaughlin', 'Naji Marshall', 'Jared Harper', 'Josh Hall', 'Ty-Shon Alexander', 'Keljin Blevins', 'Kyle Guy', 'Keita Bates-Diop', 'Quinndary Weatherspoon', 'Jalen Harris', 'Jarrell Brantley', 'Trent Forrest', 'Cassius Winston', 'Noah Vonleh', 'Brodric Thomas', 'Andre Roberson', 'Anzejs Pasecniks', 'AJ Hammons', 'Karim Mane', 'Will Magnay', 'Greg Whittington', 'Raymond Spalding', 'Chasson Randle', 'Tim Frazier', 'Justin Patton', 'Rondae Hollis-Jefferson', 'Gary Payton II', 'Anthony Lamb', 'Justin Robinson', 'Donta Hall', 'Axel Toupane', 'Anthony Tolliver', 'Henry Ellenson', 'Ashton Hagans', 'Isaiah Thomas', 'John Henson', 'Jaylen Hoard', 'Armoni Brooks', 'Jordan Bone', 'Justin Anderson', 'James Nunnally', 'Devin Cannady', 'Freddie Gillespie', 'Troy Williams', 'Yogi Ferrell', 'Cam Reynolds', 'Robert Franks', 'Demetrius Jackson', 'Dakota Mathias', 'Malik Fitts', 'Jerian Grant', 'Frank Mason', 'Tyler Hall']\n"
     ]
    }
   ],
   "source": [
    "players = driver.find_elements_by_xpath('//td[@class=\"name\"]')\n",
    "players_list = []\n",
    "for p in range(len(players)):\n",
    "    players_list.append(players[p].text)\n",
    "print(players_list)  "
   ]
  },
  {
   "cell_type": "code",
   "execution_count": 3,
   "metadata": {},
   "outputs": [
    {
     "name": "stdout",
     "output_type": "stream",
     "text": [
      "['2020/21', '$43,006,362', '$41,358,814', '$41,358,814', '$41,254,920', '$41,254,920', '$39,219,566', '$39,058,950', '$35,450,412', '$35,361,360', '$34,502,132', '$34,379,100', '$34,379,100', '$34,379,100', '$34,358,850', '$33,900,241', '$33,460,350', '$33,051,724', '$32,742,000', '$31,626,953', '$31,258,256', '$30,559,200', '$30,559,200', '$30,500,000', '$29,592,695', '$29,542,010', '$29,542,010', '$29,542,010', '$29,467,800', '$29,467,800', '$29,467,800', '$29,354,152', '$28,751,774', '$28,751,774', '$28,649,250', '$28,500,000', '$28,489,239', '$27,739,975', '$27,528,088', '$27,500,000', '$27,285,000', '$27,285,000', '$26,775,281', '$26,000,000', '$25,876,111', '$25,035,118', '$24,931,817', '$22,246,956', '$22,215,909', '$21,250,000', '$21,000,000', '$20,700,000', '$19,845,000', '$19,800,000', '$19,610,714', '$19,500,000', '$19,500,000', '$19,050,000', '$18,975,000', '$18,900,000', '$18,136,364', '$18,000,000', '$18,000,000', '$18,000,000', '$18,000,000', '$17,850,000', '$17,628,340', '$17,287,640', '$17,150,000', '$17,000,000', '$16,875,000', '$16,869,267', '$16,203,704', '$16,071,429', '$16,047,100', '$15,500,000', '$15,415,730', '$15,365,853', '$15,000,000', '$15,000,000', '$15,000,000', '$14,883,721', '$14,500,000', '$14,375,000', '$14,286,000', '$13,723,214', '$13,545,000', '$13,535,714', '$13,500,000', '$13,425,895', '$13,333,333', '$13,015,874', '$13,013,700', '$13,000,000', '$12,946,428', '$12,888,889', '$12,819,650', '$12,800,000', '$12,697,675', '$12,650,000', '$12,600,000', '$12,288,697', '$12,250,000', '$12,178,571', '$12,138,345', '$12,073,020', '$12,000,000', '$11,709,091', '$11,608,231', '$11,500,000', '$11,454,048', '$11,400,000', '$11,080,125', '$11,003,782', '$10,865,952', '$10,865,952', '$10,500,000', '$10,375,678', '$10,363,637', '$10,245,480', '$10,047,450', '$10,018,200', '$10,000,000', '$10,000,000', '$9,897,120', '$9,757,440', '$9,720,900', '$9,600,000', '$9,590,602', '$9,571,712', '$9,505,100', '$9,400,000', '$9,258,000', '$9,258,000', '$9,258,000', '$9,258,000', '$9,258,000', '$9,258,000', '$9,250,000', '$9,166,800', '$9,000,000', '$8,963,640', '$8,840,580', '$8,817,143', '$8,730,240', '$8,500,000', '$8,333,333', '$8,325,000', '$8,231,760', '$8,101,852', '$8,099,627', '$8,049,360', '$8,000,000', '$8,000,000', '$7,969,537', '$7,839,960', '$7,834,449', '$7,682,926', '$7,529,020', '$7,500,000', '$7,422,000', '$7,362,565', '$7,333,333', '$7,300,000', '$7,257,360', '$7,199,760', '$7,150,000', '$7,068,360', '$7,000,000', '$7,000,000', '$7,000,000', '$6,930,729', '$6,731,508', '$6,720,720', '$6,666,667', '$6,571,800', '$6,500,000', '$6,493,000', '$6,431,666', '$6,400,920', '$6,176,578', '$6,119,676', '$6,104,280', '$6,000,000', '$6,000,000', '$5,969,040', '$5,813,640', '$5,720,400', '$5,686,677', '$5,635,000', '$5,573,333', '$5,572,680', '$5,500,000', '$5,448,840', '$5,406,255', '$5,345,687', '$5,307,120', '$5,273,826', '$5,214,583', '$5,195,501', '$5,192,307', '$5,115,492', '$5,105,160', '$5,029,650', '$5,005,350', '$5,005,350', '$5,005,350', '$5,005,350', '$5,000,000', '$5,000,000', '$5,000,000', '$4,991,880', '$4,938,273', '$4,862,040', '$4,821,429', '$4,767,000', '$4,767,000', '$4,767,000', '$4,767,000', '$4,692,840', '$4,642,800', '$4,588,680', '$4,548,280', '$4,469,160', '$4,458,000', '$4,449,881', '$4,359,000', '$4,245,720', '$4,235,160', '$4,200,000', '$4,200,000', '$4,141,320', '$4,137,302', '$4,100,000', '$4,033,440', '$4,023,600', '$4,000,000', '$4,000,000', '$3,970,648', '$3,944,013', '$3,934,320', '$3,925,000', '$3,909,902', '$3,897,436', '$3,872,215', '$3,870,370', '$3,831,840', '$3,822,240', '$3,814,771', '$3,804,150', '$3,761,085', '$3,737,520', '$3,717,000', '$3,640,200', '$3,631,200', '$3,623,000', '$3,623,000', '$3,623,000', '$3,564,753', '$3,562,178', '$3,550,800', '$3,542,060', '$3,516,284', '$3,500,000', '$3,500,000', '$3,500,000', '$3,500,000', '$3,491,159', '$3,458,400', '$3,449,400', '$3,447,478', '$3,372,840', '$3,372,826', '$3,300,000', '$3,300,000', '$3,285,120', '$3,283,684', '$3,200,000', '$3,169,348', '$3,121,080', '$3,121,080', '$3,113,160', '$3,044,160', '$3,011,499', '$3,000,000', '$3,000,000', '$2,964,840', '$2,957,520', '$2,895,720', '$2,893,630', '$2,844,429', '$2,824,320', '$2,816,760', '$2,761,920', '$2,750,000', '$2,750,000', '$2,711,280', '$2,689,920', '$2,682,929', '$2,651,040', '$2,619,207', '$2,602,920', '$2,582,160', '$2,564,753', '$2,564,753', '$2,564,753', '$2,564,753', '$2,564,753', '$2,564,753', '$2,564,753', '$2,545,320', '$2,498,760', '$2,478,840', '$2,443,440', '$2,399,160', '$2,379,840', '$2,345,640', '$2,337,145', '$2,331,593', '$2,331,593', '$2,331,593', '$2,320,044', '$2,320,044', '$2,303,040', '$2,283,034', '$2,273,920', '$2,252,040', '$2,250,000', '$2,250,000', '$2,245,400', '$2,210,640', '$2,193,480', '$2,174,318', '$2,174,318', '$2,161,920', '$2,160,000', '$2,137,440', '$2,105,520', '$2,100,000', '$2,090,040', '$2,063,280', '$2,058,240', '$2,048,040', '$2,035,800', '$2,029,920', '$2,028,594', '$2,028,594', '$2,028,594', '$2,017,320', '$2,007,058', '$2,002,800', '$2,000,000', '$2,000,000', '$2,000,000', '$2,000,000', '$1,988,280', '$1,977,011', '$1,977,011', '$1,977,000', '$1,964,760', '$1,950,600', '$1,936,440', '$1,913,345', '$1,900,000', '$1,882,867', '$1,882,867', '$1,882,867', '$1,865,546', '$1,824,003', '$1,824,003', '$1,824,003', '$1,783,557', '$1,780,152', '$1,762,796', '$1,762,796', '$1,762,796', '$1,762,796', '$1,752,950', '$1,752,950', '$1,737,145', '$1,737,145', '$1,737,145', '$1,737,145', '$1,723,707', '$1,717,981', '$1,701,593', '$1,701,593', '$1,701,593', '$1,678,854', '$1,678,854', '$1,678,854', '$1,678,854', '$1,663,861', '$1,663,861', '$1,663,861', '$1,663,861', '$1,663,861', '$1,663,861', '$1,663,861', '$1,663,861', '$1,663,861', '$1,663,861', '$1,663,861', '$1,620,564', '$1,620,564', '$1,620,564', '$1,620,564', '$1,620,564', '$1,517,981', '$1,517,981', '$1,517,981', '$1,517,981', '$1,517,981', '$1,517,981', '$1,517,981', '$1,517,981', '$1,517,981', '$1,517,981', '$1,517,981', '$1,517,981', '$1,517,981', '$1,517,981', '$1,517,981', '$1,517,981', '$1,517,981', '$1,517,981', '$1,517,981', '$1,517,981', '$1,517,981', '$1,517,981', '$1,517,981', '$1,517,981', '$1,517,981', '$1,517,981', '$1,517,981', '$1,517,981', '$1,517,981', '$1,517,981', '$1,500,000', '$1,456,667', '$1,445,697', '$1,445,697', '$1,445,697', '$1,445,697', '$1,445,697', '$1,350,000', '$1,300,000', '$1,289,846', '$1,250,000', '$1,195,896', '$1,194,542', '$1,165,322', '$1,142,234', '$1,092,497', '$1,068,200', '$1,039,080', '$1,000,000', '$1,000,000', '$1,000,000', '$999,200', '$921,201', '$898,310', '$898,310', '$898,310', '$898,310', '$898,310', '$898,310', '$898,310', '$898,310', '$898,310', '$898,310', '$810,042', '$803,044', '$802,182', '$755,493', '$744,684', '$737,996', '$712,278', '$699,115', '$693,755', '$693,141', '$688,052', '$685,340', '$666,666', '$660,750', '$647,098', '$621,587', '$609,128', '$535,294', '$514,905', '$499,115', '$459,414', '$458,370', '$449,115', '$449,115', '$449,115', '$449,115', '$449,115', '$449,115', '$449,115', '$449,115', '$449,115', '$449,115', '$449,115', '$449,115', '$449,115', '$449,115', '$449,115', '$449,115', '$449,115', '$449,115', '$449,115', '$449,115', '$449,115', '$449,115', '$449,115', '$449,115', '$449,115', '$449,115', '$449,115', '$449,115', '$449,115', '$449,115', '$449,115', '$449,115', '$449,115', '$449,115', '$449,115', '$449,115', '$449,115', '$449,115', '$427,725', '$412,202', '$411,639', '$374,297', '$350,087', '$344,557', '$341,481', '$332,252', '$289,156', '$279,927', '$277,890', '$267,623', '$257,926', '$237,966', '$215,330', '$198,040', '$198,040', '$196,872', '$175,668', '$168,983', '$166,111', '$159,698', '$158,907', '$141,515', '$135,362', '$135,350', '$125,000', '$123,056', '$123,056', '$123,056', '$122,741', '$118,982', '$110,998', '$99,020', '$92,857', '$86,132', '$61,528', '$50,000', '$39,989', '$25,000']\n"
     ]
    }
   ],
   "source": [
    "salaries = driver.find_elements_by_xpath('//td[@class=\"hh-salaries-sorted\"]')\n",
    "salaries_list = []\n",
    "for s in range(len(salaries)):\n",
    "    salaries_list.append(salaries[s].text)\n",
    "print(salaries_list)    "
   ]
  },
  {
   "cell_type": "code",
   "execution_count": 4,
   "metadata": {},
   "outputs": [],
   "source": [
    "df = pd.DataFrame(columns=['Player','Salary','Year'])\n",
    "\n",
    "for yr in range(2015,2021):\n",
    "    page_num = str(yr) + '-' + str(yr+1) +'/'\n",
    "    url = 'https://hoopshype.com/salaries/players/' + page_num\n",
    "    driver.get(url)\n",
    "    \n",
    "    players = driver.find_elements_by_xpath('//td[@class=\"name\"]')\n",
    "    salaries = driver.find_elements_by_xpath('//td[@class=\"hh-salaries-sorted\"]') \n",
    "    \n",
    "    players_list = []\n",
    "    for p in range(len(players)):\n",
    "        players_list.append(players[p].text)\n",
    "    \n",
    "    salaries_list = []\n",
    "    for s in range(len(salaries)):\n",
    "        salaries_list.append(salaries[s].text)\n",
    "    \n",
    "    data_tuples = list(zip(players_list[1:],salaries_list[1:])) # list of each players name and salary paired together\n",
    "    temp_df = pd.DataFrame(data_tuples, columns=['Player','Salary']) # creates dataframe of each tuple in list\n",
    "    temp_df['Year'] = yr # adds season beginning year to each dataframe\n",
    "    df = df.append(temp_df) # appends to master dataframe\n",
    "    \n",
    "driver.close()"
   ]
  },
  {
   "cell_type": "code",
   "execution_count": 5,
   "metadata": {},
   "outputs": [
    {
     "data": {
      "text/html": [
       "<div>\n",
       "<style scoped>\n",
       "    .dataframe tbody tr th:only-of-type {\n",
       "        vertical-align: middle;\n",
       "    }\n",
       "\n",
       "    .dataframe tbody tr th {\n",
       "        vertical-align: top;\n",
       "    }\n",
       "\n",
       "    .dataframe thead th {\n",
       "        text-align: right;\n",
       "    }\n",
       "</style>\n",
       "<table border=\"1\" class=\"dataframe\">\n",
       "  <thead>\n",
       "    <tr style=\"text-align: right;\">\n",
       "      <th></th>\n",
       "      <th>Player</th>\n",
       "      <th>Salary</th>\n",
       "      <th>Year</th>\n",
       "    </tr>\n",
       "  </thead>\n",
       "  <tbody>\n",
       "    <tr>\n",
       "      <th>0</th>\n",
       "      <td>Kobe Bryant</td>\n",
       "      <td>$24,806,250</td>\n",
       "      <td>2010</td>\n",
       "    </tr>\n",
       "    <tr>\n",
       "      <th>1</th>\n",
       "      <td>Rashard Lewis</td>\n",
       "      <td>$19,573,711</td>\n",
       "      <td>2010</td>\n",
       "    </tr>\n",
       "    <tr>\n",
       "      <th>2</th>\n",
       "      <td>Kevin Garnett</td>\n",
       "      <td>$18,800,000</td>\n",
       "      <td>2010</td>\n",
       "    </tr>\n",
       "    <tr>\n",
       "      <th>3</th>\n",
       "      <td>Tim Duncan</td>\n",
       "      <td>$18,700,000</td>\n",
       "      <td>2010</td>\n",
       "    </tr>\n",
       "    <tr>\n",
       "      <th>4</th>\n",
       "      <td>Michael Redd</td>\n",
       "      <td>$18,300,000</td>\n",
       "      <td>2010</td>\n",
       "    </tr>\n",
       "  </tbody>\n",
       "</table>\n",
       "</div>"
      ],
      "text/plain": [
       "          Player       Salary  Year\n",
       "0    Kobe Bryant  $24,806,250  2010\n",
       "1  Rashard Lewis  $19,573,711  2010\n",
       "2  Kevin Garnett  $18,800,000  2010\n",
       "3     Tim Duncan  $18,700,000  2010\n",
       "4   Michael Redd  $18,300,000  2010"
      ]
     },
     "execution_count": 5,
     "metadata": {},
     "output_type": "execute_result"
    }
   ],
   "source": [
    "df.head()"
   ]
  },
  {
   "cell_type": "code",
   "execution_count": 7,
   "metadata": {},
   "outputs": [
    {
     "data": {
      "text/plain": [
       "<bound method DataFrame.info of                     Player       Salary  Year\n",
       "0              Kobe Bryant  $24,806,250  2010\n",
       "1            Rashard Lewis  $19,573,711  2010\n",
       "2            Kevin Garnett  $18,800,000  2010\n",
       "3               Tim Duncan  $18,700,000  2010\n",
       "4             Michael Redd  $18,300,000  2010\n",
       "..                     ...          ...   ...\n",
       "507            Paul Watson      $79,568  2019\n",
       "508       Jarrell Brantley      $79,568  2019\n",
       "509  Justin Wright-Foreman      $79,568  2019\n",
       "510       Garrison Mathews      $79,568  2019\n",
       "511           Malik Newman      $65,978  2019\n",
       "\n",
       "[5140 rows x 3 columns]>"
      ]
     },
     "execution_count": 7,
     "metadata": {},
     "output_type": "execute_result"
    }
   ],
   "source": [
    "df.info"
   ]
  },
  {
   "cell_type": "code",
   "execution_count": 12,
   "metadata": {},
   "outputs": [],
   "source": [
    "df.to_csv(\"players_names_and_salaries.csv\", header=True, index=False)"
   ]
  },
  {
   "cell_type": "code",
   "execution_count": 15,
   "metadata": {},
   "outputs": [
    {
     "data": {
      "text/html": [
       "<div>\n",
       "<style scoped>\n",
       "    .dataframe tbody tr th:only-of-type {\n",
       "        vertical-align: middle;\n",
       "    }\n",
       "\n",
       "    .dataframe tbody tr th {\n",
       "        vertical-align: top;\n",
       "    }\n",
       "\n",
       "    .dataframe thead th {\n",
       "        text-align: right;\n",
       "    }\n",
       "</style>\n",
       "<table border=\"1\" class=\"dataframe\">\n",
       "  <thead>\n",
       "    <tr style=\"text-align: right;\">\n",
       "      <th></th>\n",
       "      <th>Player</th>\n",
       "      <th>Salary</th>\n",
       "      <th>Year</th>\n",
       "    </tr>\n",
       "  </thead>\n",
       "  <tbody>\n",
       "    <tr>\n",
       "      <th>0</th>\n",
       "      <td>Kobe Bryant</td>\n",
       "      <td>24806250</td>\n",
       "      <td>2010</td>\n",
       "    </tr>\n",
       "    <tr>\n",
       "      <th>1</th>\n",
       "      <td>Rashard Lewis</td>\n",
       "      <td>19573711</td>\n",
       "      <td>2010</td>\n",
       "    </tr>\n",
       "    <tr>\n",
       "      <th>2</th>\n",
       "      <td>Kevin Garnett</td>\n",
       "      <td>18800000</td>\n",
       "      <td>2010</td>\n",
       "    </tr>\n",
       "    <tr>\n",
       "      <th>3</th>\n",
       "      <td>Tim Duncan</td>\n",
       "      <td>18700000</td>\n",
       "      <td>2010</td>\n",
       "    </tr>\n",
       "    <tr>\n",
       "      <th>4</th>\n",
       "      <td>Michael Redd</td>\n",
       "      <td>18300000</td>\n",
       "      <td>2010</td>\n",
       "    </tr>\n",
       "  </tbody>\n",
       "</table>\n",
       "</div>"
      ],
      "text/plain": [
       "          Player    Salary  Year\n",
       "0    Kobe Bryant  24806250  2010\n",
       "1  Rashard Lewis  19573711  2010\n",
       "2  Kevin Garnett  18800000  2010\n",
       "3     Tim Duncan  18700000  2010\n",
       "4   Michael Redd  18300000  2010"
      ]
     },
     "execution_count": 15,
     "metadata": {},
     "output_type": "execute_result"
    }
   ],
   "source": [
    "df['Salary'] = df['Salary'].str.replace(',', '')\n",
    "df['Salary'] = df['Salary'].str.replace('$', '')\n",
    "df.head()"
   ]
  },
  {
   "cell_type": "code",
   "execution_count": 16,
   "metadata": {},
   "outputs": [],
   "source": [
    "df.to_csv(\"players_names_and_salaries.csv\", header=True, index=False)"
   ]
  },
  {
   "cell_type": "code",
   "execution_count": null,
   "metadata": {},
   "outputs": [],
   "source": []
  }
 ],
 "metadata": {
  "kernelspec": {
   "display_name": "Python 3",
   "language": "python",
   "name": "python3"
  },
  "language_info": {
   "codemirror_mode": {
    "name": "ipython",
    "version": 3
   },
   "file_extension": ".py",
   "mimetype": "text/x-python",
   "name": "python",
   "nbconvert_exporter": "python",
   "pygments_lexer": "ipython3",
   "version": "3.7.6"
  }
 },
 "nbformat": 4,
 "nbformat_minor": 4
}
