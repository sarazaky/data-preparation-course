{
 "cells": [
  {
   "cell_type": "code",
   "execution_count": 2,
   "metadata": {},
   "outputs": [
    {
     "name": "stdout",
     "output_type": "stream",
     "text": [
      "['Amazon Basics Microfiber Sheet Set, Queen, Dark Grey', 'Amazon Basics Satin Pillowcases for Hair and Skin, Envelope Closure - Black, Queen, Pack of 2', 'Amazon Basics 20-Piece Stainless Steel Flatware Set with Square Edge, Service for 4', 'Amazon Basics Fuzzy Faux Fur Sherpa Throw Blanket, 50\"x60\" - Tan Tie Dye', 'Amazon Basics Teflon Soleplate Steam Iron, 1200-Watt', 'Amazon Basics Hard Anodized Non-Stick 2-Piece Skillet Set, 9.5-Inch and 11-Inch, Red', 'Amazon Basics Quick-Dry, Luxurious, Soft, 100% Cotton Bath Towels, Platinum - Set of 2', 'Amazon Basics Shower Curtain with Hooks - 72 x 72 Inch, Navy Stripe', 'Amazon Basics Cleaning Duster, 3-Pack, Blue and White', 'Amazon Basics Replacement Water Filters for Water Pitchers - 3-Pack', 'Amazon Basics Pivoting Soap Pump Dispenser - Black', 'Amazon Basics Fade-Resistant Cotton Washcloths - Pack of 12, Black', 'Plixio Garment Bags Suit Bag for Travel and Clothing Storage of Dresses, Dress Shirts, Coats— Includes Zipper and Transparent Window (Black- 5 Pack: Mixed Sizes)', 'Exclusivo Mezcla Large Microfiber Beach Towel, Sand Free Sports/Swimming/Pool Towel for Kids and Adults (Striped Navy, 30\" x 60\") - Quick Dry and Lightweight', 'Bedwin Soft Pillowcase Set of 2 Standard Queen Size Premium Quality Machine Washable Protectors - Soft Brushed Microfiber Pillow Covers with Back Envelope Closure (20x30 inches, White)', 'Amazon Basics Silicone Hot Skillet Handle Cover Holder, Blue', 'Amazon Basics Glass Food Storage, 16-Piece Set, 8 Containers and 8 BPA-Free Lids', 'Amazon Basics Vacuum Compression Storage Bags with Hand Pump - Pack of 12 (3 Jumbo, 3 Large, 3 Medium, 3 Small)', 'Amazon Basics Classic Bathroom Towel and Robe Hook', 'Amazon Basics Silicone, Non-Stick, Food Safe Baking Mat - Pack of 2', 'Amazon Basics Terry Cotton Washcloths, Seafoam Green - Pack of 24', 'Amazon Basics Velvet Skirt Hangers with Clips, 24-Pack, Black', 'Amazon Basics Blue, White, and Yellow Microfiber Cleaning Cloth - Pack of 24', 'Amazon Basics 16-Ounce Disposable Plastic Cups, Clear/Translucent - Pack of 240', 'Amazon Basics Broom Holder Wall Mount and Garden Tool Organizer, 6 Hook', 'Amazon Basics Hard Anodized Non-Stick 12.5-Inch Skillet, Grey', 'Amazon Basics ABL001 glass storage, 0.6-Cup, clear with blue lids', 'Walensee Sherpa Fleece Blanket (Throw Size 50”x60” Slate Blue) Plush Throw Fuzzy Super Soft Reversible Microfiber Flannel Blankets for Couch, Bed, Sofa Ultra Luxurious Warm and Cozy for All Seasons', \"ZIMASILK 100% Mulberry Silk Pillowcase for Hair and Skin,with Hidden Zipper,Both Side 19 Momme Silk,600 Thread Count, 1pc(Standard 20''x26', Taupe)\", 'Utopia Towels Cotton Electric Blue Washcloths Set - Pack of 24-100% Ring Spun Cotton, Premium Quality Flannel Face Cloths, Highly Absorbent and Soft Feel Fingertip Towels', '10PCS Silicone Hot Handle Holders Pan Scraper Tool Set, Grill Pan Scraper Cleaner Tool Handle Sleeve for Cast Iron Skillet, Frying Pan & Griddle Metal and Aluminum Cookware Handles', 'W·Z Geanmoki 82L Large Laundry Basket, Collapsible Fabric Laundry Hamper, Foldable Clothes Bag, Folding Washing Bin (Red)', '6-Pack Hand Towel Set. Lightweight 100% Cotton Quick Dry Bathroom Towels. Woven Striped Detail Absorbent Towels. Hallie Collection. (6 Pack, Yellow/Grey)']\n",
      "['19.99', '11.99', '19.99', '17.40', '17.27', '21.87', '19.99', '14.24', '17.49', '13.33', '3.68', '15.99', '17.99', '12.99', '5.99', '5.99', '21.99', '29.99', '12.67', '14.70', '17.99', '24.99', '15.49', '20.99', '18.84', '24.64', '8.07', '23.99', '23.99', '18.99', '13.99', '17.99', '24.99']\n"
     ]
    }
   ],
   "source": [
    "from selenium import webdriver\n",
    "from selenium.webdriver.common.keys import Keys\n",
    "import pandas as pd\n",
    "\n",
    "driver = webdriver.Firefox()\n",
    "driver.get('https://www.amazon.com/s?k=amazonbasics&rh=n%3A1055398%2Cp_36%3A1253523011&dc&qid=1619039742&rnid=386465011&ref=sr_nr_p_36_1')\n",
    "products = driver.find_elements_by_xpath('//span[@class=\"a-size-base-plus a-color-base a-text-normal\"]')\n",
    "products_list = []\n",
    "for p in products:\n",
    "    products_list.append(p.text)\n",
    "print(products_list)  \n",
    "\n",
    "prices_whole = driver.find_elements_by_xpath('//span[@class=\"a-price-whole\"]')\n",
    "prices_fraction = driver.find_elements_by_xpath('//span[@class=\"a-price-fraction\"]')\n",
    "prices_list = []\n",
    "for w,f in zip(prices_whole,prices_fraction):\n",
    "    prices_list.append(w.text + \".\" + f.text)\n",
    "print(prices_list) \n",
    "\n",
    "data_tuples = list(zip(products_list,prices_list)) # list of each product name and price paired together\n",
    "df = pd.DataFrame(data_tuples, columns=['Product','Price'])   \n",
    "\n",
    "driver.close()\n",
    "\n",
    "df.to_csv(\"amazon_products.csv\", header=True, index=False)\n"
   ]
  },
  {
   "cell_type": "code",
   "execution_count": null,
   "metadata": {},
   "outputs": [],
   "source": []
  }
 ],
 "metadata": {
  "kernelspec": {
   "display_name": "Python 3",
   "language": "python",
   "name": "python3"
  },
  "language_info": {
   "codemirror_mode": {
    "name": "ipython",
    "version": 3
   },
   "file_extension": ".py",
   "mimetype": "text/x-python",
   "name": "python",
   "nbconvert_exporter": "python",
   "pygments_lexer": "ipython3",
   "version": "3.8.5"
  }
 },
 "nbformat": 4,
 "nbformat_minor": 4
}
