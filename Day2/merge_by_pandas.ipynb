{
 "cells": [
  {
   "cell_type": "code",
   "execution_count": 5,
   "metadata": {},
   "outputs": [
    {
     "name": "stdout",
     "output_type": "stream",
     "text": [
      "{'fare': 13.0, 'name': 'Collander, Mr. Erik Gustaf', 'embarked': 'S', 'age': 28.0, 'parch': 0, 'pclass': 2, 'sex': 'male', 'survived': 'No', 'ticket': '248740', 'passengerid': 343, 'sibsp': 0}\n"
     ]
    },
    {
     "data": {
      "text/plain": [
       "'\\ndf1 = pd.read_json(\\'file1.json\\')\\ndf2 = pd.read_json(\\'file2.json\\')\\nnewDF = pd.concat([df1,df2], ignore_index=True)\\n\\n\\n\\n\\n\\ncsvDF = pd.read_csv(\\'titanic-passengers.csv\\', sep=\\';\\')\\njsonDF = pd.read_json(\\'titanic-passengers.json\\')\\n#or\\n\\njsonDF = pd.DataFrame([])\\njsonDF.info()\\nfor d in data:\\n    jsonDF = jsonDF.append([pd.json_normalize(d[\\'fields\\'])])\\n\\njsonDF = jsonDF.rename(columns={\\'name\\': \\'Name\\', \\'embarked\\': \\'Embarked\\', \\'age\\': \\'Age\\',\\n                                \\'parch\\': \\'Parch\\', \\'pclass\\': \\'Pclass\\', \\'sex\\': \\'Sex\\',\\n                                \\'survived\\': \\'Survived\\', \\'ticket\\': \\'Ticket\\', \\n                                \\'passengerid\\': \\'PassengerId\\', \\'sibsp\\': \\'SibSp\\'})\\n\\ncsvDF.to_csv(\\'dataset1.csv\\', index=False)\\njsonDF.to_csv(\\'dataset2.csv\\', index=False)\\nmergedDF = pd.merge(csvDF, jsonDF, \\n                    on=[\"PassengerId\",\"Survived\",\"Pclass\",\"Name\",\"Sex\",\"SibSp\",\"Parch\",\"Embarked\"])\\n\\nmergedDF.to_csv(\"merged_output.csv\", index=False)\\n'"
      ]
     },
     "execution_count": 5,
     "metadata": {},
     "output_type": "execute_result"
    }
   ],
   "source": [
    "import pandas as pd\n",
    "import json\n",
    "\n",
    "data = json.load(open('titanic-passengers.json'))\n",
    "jsonDF = pd.DataFrame([])\n",
    "for d in data:\n",
    "    jsonDF = jsonDF.append([pd.json_normalize(d['fields'])])\n",
    "jsonDF = jsonDF.rename(columns={'name': 'Name', 'embarked': 'Embarked', 'age': 'Age',\n",
    "                                'parch': 'Parch', 'pclass': 'Pclass', 'sex': 'Sex',\n",
    "                                'survived': 'Survived', 'ticket': 'Ticket', \n",
    "                                'passengerid': 'PassengerId', 'sibsp': 'SibSp'})\n",
    "csvDF = pd.read_csv('titanic-passengers.csv', sep=';')\n",
    "\"\"\"\n",
    "import pandas as pd\n",
    "import json\n",
    "df1 = pd.read_json('file1.json')\n",
    "df2 = pd.read_json('file2.json')\n",
    "newDF = pd.concat([df1,df2], ignore_index=True)\n",
    "\n",
    "\n",
    "csvDF = pd.read_csv('titanic-passengers.csv', sep=';')\n",
    "jsonDF = pd.read_json('titanic-passengers.json')\n",
    "#or\n",
    "data = json.load(open('titanic-passengers.json'))\n",
    "jsonDF = pd.DataFrame([])\n",
    "for d in data:\n",
    "    jsonDF = jsonDF.append([pd.json_normalize(d['fields'])])\n",
    "\n",
    "jsonDF = jsonDF.rename(columns={'name': 'Name', 'embarked': 'Embarked', 'age': 'Age',\n",
    "                                'parch': 'Parch', 'pclass': 'Pclass', 'sex': 'Sex',\n",
    "                                'survived': 'Survived', 'ticket': 'Ticket', \n",
    "                                'passengerid': 'PassengerId', 'sibsp': 'SibSp'})\n",
    "mergedDF = pd.merge(csvDF, jsonDF, \n",
    "                    on=[\"PassengerId\",\"Survived\",\"Pclass\",\"Name\",\"Sex\",\"SibSp\",\"Parch\",\"Embarked\"])\n",
    "\n",
    "mergedDF.to_csv(\"merged_output.csv\", index=False)\n",
    "\"\"\""
   ]
  },
  {
   "cell_type": "code",
   "execution_count": null,
   "metadata": {},
   "outputs": [],
   "source": []
  },
  {
   "cell_type": "code",
   "execution_count": null,
   "metadata": {},
   "outputs": [],
   "source": []
  }
 ],
 "metadata": {
  "kernelspec": {
   "display_name": "Python 3",
   "language": "python",
   "name": "python3"
  },
  "language_info": {
   "codemirror_mode": {
    "name": "ipython",
    "version": 3
   },
   "file_extension": ".py",
   "mimetype": "text/x-python",
   "name": "python",
   "nbconvert_exporter": "python",
   "pygments_lexer": "ipython3",
   "version": "3.8.5"
  }
 },
 "nbformat": 4,
 "nbformat_minor": 4
}
