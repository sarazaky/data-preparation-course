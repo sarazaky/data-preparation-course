{
 "cells": [
  {
   "cell_type": "code",
   "execution_count": 4,
   "metadata": {},
   "outputs": [
    {
     "name": "stdout",
     "output_type": "stream",
     "text": [
      "{'ID': {'0': 23, '1': 43, '2': 12, '3': 13, '4': 67, '5': 89}, 'Name': {'0': 'Ram', '1': 'Deep', '2': 'Yash', '3': 'Aman', '4': 'Arjun', '5': 'Aditya'}, 'Marks': {'0': 89, '1': 97, '2': 45, '3': 78, '4': 56, '5': 76}, 'Grade': {'0': 'B', '1': 'A', '2': 'F', '3': 'C', '4': 'E', '5': 'C'}}\n"
     ]
    }
   ],
   "source": [
    "import pandas as pd\n",
    "\n",
    "df = pd.read_json(\"file1.json\")\n",
    "df.to_csv(r\"file1.csv\", index = None)"
   ]
  },
  {
   "cell_type": "code",
   "execution_count": 1,
   "metadata": {},
   "outputs": [],
   "source": [
    "import pandas as pd\n",
    "import json\n",
    "\n",
    "data = json.load(open(\"file1.json\"))\n",
    "#df = pd.DataFrame(data[\"list\"])\n",
    "df = pd.DataFrame(data)\n",
    "df.to_csv('outputAsCSVFile.csv', index=False)\n",
    "\n"
   ]
  },
  {
   "cell_type": "code",
   "execution_count": 5,
   "metadata": {},
   "outputs": [],
   "source": [
    "import pandas as pd\n",
    "\n",
    "df = pd.read_json(\"file2.json\")\n",
    "df.to_csv(r\"file2.csv\", index = None)"
   ]
  },
  {
   "cell_type": "code",
   "execution_count": null,
   "metadata": {},
   "outputs": [],
   "source": []
  }
 ],
 "metadata": {
  "kernelspec": {
   "display_name": "Python 3",
   "language": "python",
   "name": "python3"
  },
  "language_info": {
   "codemirror_mode": {
    "name": "ipython",
    "version": 3
   },
   "file_extension": ".py",
   "mimetype": "text/x-python",
   "name": "python",
   "nbconvert_exporter": "python",
   "pygments_lexer": "ipython3",
   "version": "3.8.5"
  }
 },
 "nbformat": 4,
 "nbformat_minor": 4
}
